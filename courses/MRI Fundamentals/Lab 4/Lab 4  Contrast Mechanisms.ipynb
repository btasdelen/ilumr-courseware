{
 "cells": [
  {
   "cell_type": "markdown",
   "id": "3f82a4d9-36ac-4355-9dec-5fdccf60211c",
   "metadata": {
    "extensions": {
     "jupyter_dashboards": {
      "activeView": "grid_default",
      "views": {
       "grid_default": {
        "col": null,
        "height": 2,
        "hidden": true,
        "locked": true,
        "row": null,
        "width": 2
       }
      }
     }
    }
   },
   "source": [
    "# **LAB FOUR: RELAXATION AND CONTRAST**\n",
    "\n",
    "This lab covers Relaxation and Contrast mechanism. Optionally, depending on the time, flow imaging can be covered."
   ]
  },
  {
   "cell_type": "markdown",
   "id": "5c032817-f3ee-471a-ac42-fa95b2bf896a",
   "metadata": {
    "extensions": {
     "jupyter_dashboards": {
      "activeView": "grid_default",
      "views": {
       "grid_default": {
        "col": null,
        "height": 2,
        "hidden": true,
        "locked": true,
        "row": null,
        "width": 2
       }
      }
     }
    }
   },
   "source": [
    ">-------------------------------------------------------------------------------------------------------------------------------------------------------\n",
    "> #### **Setup Task: Run the Notebook**\n",
    "> \n",
    "> 1. Edit the cell below to set the `LAB_USER_NAME` variable to your name\n",
    "> 2. Click **Run->Run All Cells** in the in top menu bar of jupyterlab\n",
    "> 3. Open the Table of Contents side-bar on the left edge of jupyterlab to aid in navigation\n",
    "> \n",
    "> -------------------------------------------------------------------------------------------------------------------------------------------------------"
   ]
  },
  {
   "cell_type": "code",
   "execution_count": null,
   "id": "16f05f60-40d9-4bec-8261-c48c94802a07",
   "metadata": {
    "extensions": {
     "jupyter_dashboards": {
      "activeView": "grid_default",
      "views": {
       "grid_default": {
        "col": null,
        "height": 2,
        "hidden": true,
        "locked": true,
        "row": null,
        "width": 2
       }
      }
     }
    }
   },
   "outputs": [],
   "source": [
    "LAB_USER_NAME = 'REPLACE_ME'"
   ]
  },
  {
   "cell_type": "markdown",
   "id": "70b86f3b-239d-4b41-9233-498dbbc9f362",
   "metadata": {
    "extensions": {
     "jupyter_dashboards": {
      "activeView": "grid_default",
      "views": {
       "grid_default": {
        "col": null,
        "height": 2,
        "hidden": true,
        "locked": true,
        "row": null,
        "width": 2
       }
      }
     }
    }
   },
   "source": [
    "**Important**: To initialise this notebook, edit the cell above to set `LAB_USER_NAME` to your name, then click **Run->Run All Cells** in the top menu bar."
   ]
  },
  {
   "cell_type": "code",
   "execution_count": null,
   "id": "179ea1b4-60c9-4514-8c4c-e78271824085",
   "metadata": {
    "extensions": {
     "jupyter_dashboards": {
      "activeView": "grid_default",
      "views": {
       "grid_default": {
        "col": null,
        "height": 2,
        "hidden": true,
        "locked": true,
        "row": null,
        "width": 2
       }
      }
     }
    },
    "jupyter": {
     "source_hidden": true
    },
    "tags": []
   },
   "outputs": [],
   "source": [
    "import panel as pn\n",
    "pn.extension(\n",
    "    inline=True, # use inline js to allow it to work offline\n",
    "    raw_css=['''progress {margin: 0;}''']) # raw_css setting is a workaround for panel issue 4112\n",
    "import bokeh.plotting\n",
    "bokeh.plotting.output_notebook(resources=bokeh.resources.INLINE) # use inline js to allow it to work offline\n",
    "import sys\n",
    "import os\n",
    "import yaml\n",
    "import numpy as np\n",
    "import matplotlib.pyplot as plt\n",
    "\n",
    "from matipo import GLOBALS_DIR, DATA_DIR\n",
    "\n",
    "# add inline dashboard libraries to path so they can be imported later\n",
    "sys.path.append('../../../dashboards-inline')\n",
    "\n",
    "LAB_DIR = os.path.join(DATA_DIR, LAB_USER_NAME)\n",
    "os.makedirs(LAB_DIR, exist_ok=True)\n",
    "print('User data directory:', LAB_DIR)\n",
    "\n",
    "GAMMA_BAR = 42.58e6\n",
    "\n",
    "try:\n",
    "    with open(GLOBALS_DIR+'gradient_calibration.yaml', 'r') as f:\n",
    "        data = yaml.load(f, Loader=yaml.SafeLoader)\n",
    "        G_CAL = 1/(GAMMA_BAR*data['gradient_calibration']) # convert\n",
    "except IOError:\n",
    "    print('Unable to load gradient calibration, using default value')\n",
    "    G_CAL = 0.2\n",
    "\n",
    "try:\n",
    "    with open(GLOBALS_DIR+'hardpulse_90.yaml', 'r') as f:\n",
    "        data = yaml.load(f, Loader=yaml.SafeLoader)\n",
    "        AREA_90 = data['a_90']*data['t_90']\n",
    "except IOError:\n",
    "    print('Unable to load pulse calibration, using default value')\n",
    "    AREA_90 = 0.3*32e-6\n",
    "    \n",
    "# Load calibrated frequency\n",
    "FREQ_FILE = os.path.join(GLOBALS_DIR, 'frequency.yaml')\n",
    "\n",
    "with open(FREQ_FILE, 'r') as f:\n",
    "    freq_dict = yaml.safe_load(f)\n",
    "    frequency = freq_dict['f']\n",
    "    print(f\"System frequency read as: {frequency*1e-6} MHz.\")\n",
    "    \n",
    "# Load calibrated 90 and 180 hard pulses.\n",
    "HP90_FILE = os.path.join(GLOBALS_DIR, 'hardpulse_90.yaml')\n",
    "HP180_FILE = os.path.join(GLOBALS_DIR, 'hardpulse_180.yaml')\n",
    "\n",
    "\n",
    "with open(HP90_FILE, 'r') as f:\n",
    "    p_dict = yaml.safe_load(f)\n",
    "    t_90 = p_dict['t_90']\n",
    "    a_90 = p_dict['a_90']\n",
    "\n",
    "with open(HP180_FILE, 'r') as f:\n",
    "    p_dict = yaml.safe_load(f)\n",
    "    t_180 = p_dict['t_180']\n",
    "    a_180 = p_dict['a_180']"
   ]
  },
  {
   "cell_type": "markdown",
   "id": "246017a5-e44f-4b07-a54c-fc014bbf2633",
   "metadata": {
    "extensions": {
     "jupyter_dashboards": {
      "activeView": "grid_default",
      "views": {
       "grid_default": {
        "col": null,
        "height": 2,
        "hidden": true,
        "locked": true,
        "row": null,
        "width": 2
       }
      }
     }
    },
    "tags": []
   },
   "source": [
    "## 1. Background\n",
    "Since the mechanisms of relaxation occur on the quantum level, it is important to recap how individual spins contribute to the net magnetization vector. \n",
    "\n",
    "Taking an averaged sum of all the quantum spins' magnetic moments ( $\\vec\\mu$) results in a vector that describes the net direction and magnitude of these spins - this is called the Net Magnetization Vector ($\\vec M$). When placed in the magnetic field ($\\vec B_0$), not all the spins will align with the field, but at thermal equilibrium their net value ($\\vec M$) will align. This causes a precession around $\\vec B_0$ as described in Lab One. When we add energy to the system, using the oscillating magnetic field $\\vec B_1$, the tip angle of $\\vec M$ can be changed. \n",
    "\n",
    "**Relaxation** is the process of $\\vec M$ returning back to its thermal equilibrium state in alignment with $\\vec B_0$.\n",
    "\n",
    "In order to better express the different types of relaxation, $\\vec M$ is split into two components: the longitudinal component ($\\vec M_z$) and the transverse component ($\\vec M_{xy}$). Each of these components undergo relaxation at different rates and through different mechanisms."
   ]
  },
  {
   "cell_type": "markdown",
   "id": "bdf9621f-3972-45d6-be46-ddb3f6b0ca03",
   "metadata": {
    "extensions": {
     "jupyter_dashboards": {
      "activeView": "grid_default",
      "views": {
       "grid_default": {
        "col": null,
        "height": 2,
        "hidden": true,
        "locked": true,
        "row": null,
        "width": 2
       }
      }
     }
    },
    "tags": []
   },
   "source": [
    "## 2. T1 Relaxation\n",
    "\n",
    "This section is taken from: https://mriquestions.com/what-is-t1.html\n",
    "\n",
    "<center><img src=\"images/longitudinalt1.gif\" width=\"600\"></center>\n",
    "<center><figcaption style=\"width: 600px;\">Figure 1: Longitudinal component of the magnetization recovering after excitation.</figcaption></center>\n",
    "\n",
    "T1 relaxation is the process by which the net magnetization (M) grows/returns to its initial maximum value (Mo) parallel to Bo. Synonyms for T1 relaxation include longitudinal relaxation, thermal relaxation and spin-lattice relaxation.\n",
    "\n",
    "$$M_z(t) = M_0 \\cdot (1-e^{-t/T_1})$$\n",
    "\n",
    "<center><img src=\"images/t1_relaxcurve.gif\" width=\"400\"></center>\n",
    "<center><figcaption style=\"width: 600px;\">Figure 2: T1 recovery curve.</figcaption></center>"
   ]
  },
  {
   "cell_type": "markdown",
   "id": "4022a3f0-5527-420a-98df-dc7258ad2935",
   "metadata": {
    "extensions": {
     "jupyter_dashboards": {
      "activeView": "grid_default",
      "views": {
       "grid_default": {
        "col": null,
        "height": 2,
        "hidden": true,
        "locked": true,
        "row": null,
        "width": 2
       }
      }
     }
    }
   },
   "source": [
    "> -------------------------------------------------------------------------------------------------------------------------------------------------------\n",
    "> #### **Task 2.1: FID and the concept of repetition time (TR)**\n",
    "> 1. Insert the Shim Sample at the correct depth.\n",
    "> 2. Set number of repetitions to 5. Set the repetition time to 1 seconds. Hit scan.\n",
    "> 3. Record the amplitude of first peak and the second peak. Save the plot.\n",
    "> 4. Now, change TR to 0.5 secs. Repeat step 3. What do you observe?\n",
    "> 5. Repeat 3 for TR=0.3, TR=0.2, TR=0.05. **Question:** Explain what you observe. Can you estimate the T1 of the sample from here? *Hint: Think about tracking the magnetization as you keep applying 90 degree pulses.* \n",
    "> -------------------------------------------------------------------------------------------------------------------------------------------------------"
   ]
  },
  {
   "cell_type": "code",
   "execution_count": null,
   "id": "dd91f64c-620a-4c57-8e5b-3f9838a4bae4",
   "metadata": {
    "extensions": {
     "jupyter_dashboards": {
      "activeView": "grid_default",
      "views": {
       "grid_default": {
        "col": null,
        "height": 2,
        "hidden": true,
        "locked": true,
        "row": null,
        "width": 2
       }
      }
     }
    },
    "jupyter": {
     "source_hidden": true
    },
    "tags": []
   },
   "outputs": [],
   "source": [
    "TR1 = pn.widgets.FloatInput(name='TR [s]', start=0.05, end=1, step=0.1, value=0.5)\n",
    "nrep = pn.widgets.IntInput(name='Repetition Number', start=1, end=10, step=1, value=1)\n",
    "\n",
    "import importlib\n",
    "import FID_w_repApp # from dashboards-inline directory that was added to sys.path\n",
    "importlib.reload(FID_w_repApp)\n",
    "\n",
    "t_acqdelay = 50e-6\n",
    "t_dw = 10e-6\n",
    "t_acq = lambda: TR1.value - t_acqdelay - 32e-6\n",
    "\n",
    "print(f\"n_smap: {np.floor((TR1.value - t_acqdelay - 32e-6)/t_dw)}\")\n",
    "\n",
    "s1_fid = FID_w_repApp.FIDApp(\n",
    "    override_pars=dict(\n",
    "        #f=frequency, # use value of frequency from the user input\n",
    "        #a_90=a_90, # use rf amplitude from the user input\n",
    "        #t_90=t_90,\n",
    "        n_reps=nrep,\n",
    "        n_scans=1,\n",
    "        n_samples= lambda: np.floor((TR1.value - t_acqdelay - 32e-6)/t_dw), # Be sampling whole TR\n",
    "        t_dw=t_dw,\n",
    "        t_acqdelay=t_acqdelay,\n",
    "        t_end=0   # Additional delay to make TR correct\n",
    "\n",
    "    ),\n",
    "    show_magnitude=True,\n",
    "    show_complex=False\n",
    ")\n",
    "\n",
    "pn.Column(\n",
    "    pn.Row(TR1, nrep),\n",
    "    s1_fid.main(),\n",
    "    sizing_mode='stretch_width'\n",
    ")\n",
    "\n"
   ]
  },
  {
   "cell_type": "markdown",
   "id": "bbf81d4d-814d-463a-86ec-37ac1bac6776",
   "metadata": {},
   "source": [
    "**Inversion Recovery Sequence**\n",
    "\n",
    "Images and the text is taken from https://mriquestions.com/what-is-ir.html.\n",
    "\n",
    "Inversion recovery (IR) is a conventional spin echo (SE) sequence preceded by a 180° inverting pulse. In other words, if a SE sequence is denoted by **{90°−180°−echo}**, the IR sequence can be written as **180° — {90°−180°−echo}**\n",
    "The time between the 180° inverting pulse and the 90°-pulse is called the **inversion time (TI)**. The repetition time (TR) and echo time (TE) are defined as they are for spin echo. \n",
    "\n",
    "<center><img src=\"images/ir_pulsediag.gif\" width=\"600\"></center>\n",
    "<center><figcaption style=\"width: 600px;\">Figure 3: Inversion recovery pulse diagram compared to a conventional spin echo. Notice the initial 180° inverting pulse.</figcaption></center>\n",
    "\n",
    "The function of the inverting pulse is to flip the initial longitudinal magnetization (Mo) of all tissues in the imaged slice or volume to point opposite to the direction of the main magnetic field (Bo). During the TI interval, these inverted tissues undergo T1 relaxation as they variably seek to re-establish magnetization along the +z-direction. When spin echo signal generation begins (at the 90°-pulse), the initial longitudinal magnetizations of different tissues are now separated based on their different intrinsic T1 relaxation times. The degree of separation (and hence image contrast) is controlled by varying the TI parameter in the pulse sequence. Additional contrast effects are also obtained by manipulation of TR and TE.  \n",
    "\n",
    "<center><img src=\"images/ir_recov.gif\" width=\"600\"></center>\n",
    "<center><figcaption style=\"width: 600px;\">Figure 4: Recovery of the Mz after inversion. Notice how tissues with different T1 recover with different rates. This can be exploited to create contrast and separate tissues by their T1. Also notice the point where Mz crosses 0.</figcaption></center>\n"
   ]
  },
  {
   "cell_type": "markdown",
   "id": "1d347359-cda7-4033-ba14-7e2e7f789d89",
   "metadata": {
    "extensions": {
     "jupyter_dashboards": {
      "activeView": "grid_default",
      "views": {
       "grid_default": {
        "col": null,
        "height": 2,
        "hidden": true,
        "locked": true,
        "row": null,
        "width": 2
       }
      }
     }
    }
   },
   "source": [
    "> -------------------------------------------------------------------------------------------------------------------------------------------------------\n",
    "> #### **Task 2.2: Inversion recovery**\n",
    "> 1. Put the shim phantom in.\n",
    "> 2. Run the scan while sweeping through 5-6 inversion times between 0.05 and 0.5. Record the signal magnitude for each echo (magnitude at the peak).\n",
    "> 3. **Question:** How does signal amplitude behaves as you increase the TI. Is it always increasing?\n",
    "> 4. Find the inversion time where there is almost no signal, write this number down. **Question:** Can you think of a way how this point can be used?\n",
    "> 5. Plot the numbers you acquired at step 2 versus the inversion times. **Question:** Does the plotted curve make sense? How can you measure the T1 using this curve? What is the approximate T1 by looking at the curve?\n",
    "> 6. Repeat 4 and 5 for the other two phantoms with different T1's, and observe their relaxation curves and null points.\n",
    "> -------------------------------------------------------------------------------------------------------------------------------------------------------"
   ]
  },
  {
   "cell_type": "code",
   "execution_count": null,
   "id": "4fb1903a-135c-490d-a0d9-48af14c77844",
   "metadata": {
    "jupyter": {
     "source_hidden": true
    },
    "tags": []
   },
   "outputs": [],
   "source": [
    "TI = pn.widgets.FloatInput(name='Inversion Time [s]', start=0.05, end=1, step=0.1, value=0.1)\n",
    "from IRFIDApp import IRFIDApp\n",
    "s2_fid = IRFIDApp(\n",
    "    override_pars=dict(\n",
    "        #f=frequency, # use value of frequency from the user input\n",
    "        #a_90=a_90, # use rf amplitude from the user input\n",
    "        #t_90=t_90,\n",
    "        a_180=a_180,\n",
    "        t_180=t_180,\n",
    "        n_reps=1,\n",
    "        n_scans=1,\n",
    "        n_echo=1,\n",
    "        n_samples=1000,\n",
    "        t_inv=lambda: [TI.value],\n",
    "        t_dw=5e-6,\n",
    "        t_acqdelay=50e-6,\n",
    "        t_echo=0.5e-3,\n",
    "        t_end=1\n",
    "    ),\n",
    "    show_magnitude=True,\n",
    "    show_complex=True\n",
    ")\n",
    "\n",
    "print(s2_fid.seq.par)\n",
    "\n",
    "pn.Column(\n",
    "    pn.Row(TI),\n",
    "    s2_fid.main(),\n",
    "    sizing_mode='stretch_width'\n",
    ")"
   ]
  },
  {
   "cell_type": "markdown",
   "id": "0ea9fbdb-e53a-4ce3-a481-6acf9268d238",
   "metadata": {
    "extensions": {
     "jupyter_dashboards": {
      "activeView": "grid_default",
      "views": {
       "grid_default": {
        "col": null,
        "height": 2,
        "hidden": true,
        "locked": true,
        "row": null,
        "width": 2
       }
      }
     }
    },
    "tags": []
   },
   "source": [
    "## 3. T2 Relaxation\n",
    "This section is taken from: https://mriquestions.com/what-is-t2.html and https://mriquestions.com/se-vs-multi-se-vs-fse.html\n",
    "\n",
    "T2 relaxation is the process by which the transverse components of magnetization (Mxy) decay or dephase.  As originally described by Felix Bloch (1946), T2 relaxation is considered to follow first order kinetics, resulting in a simple exponential decay (like a radio-isotope) with time constant T2. Thus T2 is the time required for the transverse magnetization to fall to approximately 37% (1/e) of its initial value. Synonyms for T2 relaxation are transverse relaxation and spin-spin relaxation.\n",
    "\n",
    "<center><img src=\"images/t2_dephase.gif\" width=\"600\"></center>\n",
    "<center><figcaption style=\"width: 600px;\">Figure 5: Dephasing due to T2 relaxation.</figcaption></center>\n",
    "\n",
    "$$M_{xy}(t) = M_{xy}(0) \\cdot e^{-t/T_2}$$\n",
    "\n",
    "### Spin Echo\n",
    "\n",
    "The simplest form of the spin-echo (SE) pulse sequence consists of 90°-pulse, a 180°-pulse, and then an echo. The time between the middle of the first RF pulse and the peak of the spin echo is called the echo time (TE).  The sequence then repeats at time TR, the repetition time.\n",
    "\n",
    "<center><img src=\"images/se_diag.gif\" width=\"600\"></center>\n",
    "<center><figcaption style=\"width: 600px;\">Figure 6: Spin-echo pulse diagram.</figcaption></center>\n",
    "\n",
    "As described in a previous Q&A, the 180°-pulse allows refocusing of nonmoving spins whose phases have been scattered by constant field distortions and inhomogeneities. The pulse does not correct for T1 or true T2 effects due to random processes at the atomic/molecular level. It does not correct for phase shifts of spins that move, flow, diffuse or undergo chemical exchange. But if the spin has dephased simply because it is sitting near a chunk of iron-containing hemosiderin or near some imperfection in the main magnetic field of any cause, the 180°-pulse will correct for that!\n",
    "\n",
    "<center><img src=\"images/se_spins.gif\" width=\"400\"></center>\n",
    "<center><figcaption style=\"width: 600px;\">Figure 7: Forming of the spin-echo.</figcaption></center>"
   ]
  },
  {
   "cell_type": "markdown",
   "id": "22cb8c41-6a4d-4e8f-a814-d5902a35ac0f",
   "metadata": {
    "extensions": {
     "jupyter_dashboards": {
      "activeView": "grid_default",
      "views": {
       "grid_default": {
        "col": null,
        "height": 2,
        "hidden": true,
        "locked": true,
        "row": null,
        "width": 2
       }
      }
     }
    }
   },
   "source": [
    "> -------------------------------------------------------------------------------------------------------------------------------------------------------\n",
    "> #### **Task 3.1: Spin Echo Experiment**\n",
    "> 1. Insert the shim sample. Run the sequence.\n",
    "> 2. Observe the echo. **Question:** What governs the decay around the echo?\n",
    "> 3. Sweep the echo time in the range 10-250 ms, acquire ~10 echo times. Write down the echo times and the signal amplitude at the echo.\n",
    "> 4. **Question:** Plot the signal amplitudes vs. echo time. What is the number where the signal approximately drops to 37% of the first echo's amplitude. Does it match with what it says on the label of the phantom?\n",
    "> -------------------------------------------------------------------------------------------------------------------------------------------------------"
   ]
  },
  {
   "cell_type": "code",
   "execution_count": null,
   "id": "c627ef1e-ee3f-484b-9fcd-a1df97da52f5",
   "metadata": {},
   "outputs": [],
   "source": [
    "TE = pn.widgets.FloatInput(name='TE [ms]', start=10, end=1000, step=10, value=20)\n",
    "print(f\"TE: {TE.value*1e-3}\")\n",
    "from SE import SEApp\n",
    "task31_se = SEApp (\n",
    "            override_pars=dict(\n",
    "            #f=frequency, # use value of frequency from the user input\n",
    "            #a_90=a_90, # use rf amplitude from the user input\n",
    "            #t_90=t_90,\n",
    "            a_180=a_180,\n",
    "            t_180=t_180,\n",
    "            n_scans=1,\n",
    "            n_samples=256,\n",
    "            t_dw=5e-6,\n",
    "            t_acqdelay=50e-6,\n",
    "            t_echo=lambda: TE.value*1e-3,\n",
    "            t_end=0.1\n",
    "        ),\n",
    "        show_magnitude=True,\n",
    "        show_complex=False\n",
    "    )\n",
    "\n",
    "pn.Column(\n",
    "    pn.Row(TE),\n",
    "    task31_se.main(),\n",
    "    sizing_mode='stretch_width'\n",
    ")"
   ]
  },
  {
   "cell_type": "markdown",
   "id": "19b17dbd-faa3-41bd-834c-6f6f2349c529",
   "metadata": {},
   "source": [
    "## Multi-echo Spin-echo\n",
    "As long as T2-relaxation has not completely destroyed the MR signal, it is possible to stimulate the system with additional 180°-pulse(s) and generate additional echo(es). The amplitude of each echo is progressively smaller due to T2 decay.\n",
    "\n",
    "<center><img src=\"images/mcse.gif\" width=\"600\"></center>\n",
    "<center><figcaption style=\"width: 600px;\">Figure 8: Multi-echo spin-echo pulse diagram.</figcaption></center>\n",
    "\n",
    "**CPMG** is a special type of multi-echo spin-echo, where the phase of the 180 RF pulses are altered between echoes.\n",
    "\n",
    "By adjusting the phase of transmission, the 180° pulse may be applied along the x-axis, y-axis, or any other direction. On the left side of the diagram is a 180y° pulse, that is, one that rotates the spins around the y-axis. The echo forms in the +y-direction. On the right is a 180x° pulse that causes the echo to form along the −y-direction.\n",
    "\n",
    "This technique reduces the accumulated phase errors and inhomogeneity effects, giving us a better estimate of the T2 decay."
   ]
  },
  {
   "cell_type": "markdown",
   "id": "b1d8ec21-b25d-4277-96c0-261e1bb931e7",
   "metadata": {
    "extensions": {
     "jupyter_dashboards": {
      "activeView": "grid_default",
      "views": {
       "grid_default": {
        "col": null,
        "height": 2,
        "hidden": true,
        "locked": true,
        "row": null,
        "width": 2
       }
      }
     }
    }
   },
   "source": [
    "> -------------------------------------------------------------------------------------------------------------------------------------------------------\n",
    "> #### **Task 3.2: Multi-echo Spin-echo (CPMG)**\n",
    "> 1. Consider the T2 you found in the Task 3.1. Set the number of echoes and echo time step so that it covers your expected T2. Play with two variables until you get a good T2 decay curve.\n",
    "> 2. **Question:** Does the curve look like the previous T2 curve? Considering the time it takes to use both methods, which one is better?\n",
    "> When is the first method a better approach then the CPMG method? *Hint: Think about system imperfections.*\n",
    "> 3. Repeat 1 for the other 2 samples with different T2 values. Record their measured T2 values.\n",
    "> -------------------------------------------------------------------------------------------------------------------------------------------------------"
   ]
  },
  {
   "cell_type": "code",
   "execution_count": null,
   "id": "ffec6d61-8f77-4348-9c47-5c29bc0c6cbe",
   "metadata": {
    "tags": []
   },
   "outputs": [],
   "source": [
    "TE2 = pn.widgets.FloatInput(name='TE step [ms]', start=0.5, end=50, step=1, value=1)\n",
    "neco = pn.widgets.IntInput(name='Number of Echoes', start=1, end=1000, step=10, value=10)\n",
    "\n",
    "from CPMG import CPMGApp\n",
    "task32_cpmg = CPMGApp (\n",
    "            override_pars=dict(\n",
    "            #f=frequency, # use value of frequency from the user input\n",
    "            #a_90=a_90, # use rf amplitude from the user input\n",
    "            #t_90=t_90,\n",
    "            a_180=a_180,\n",
    "            t_180=t_180,\n",
    "            n_scans=1,\n",
    "            n_echo=neco,\n",
    "            n_samples=64,\n",
    "            t_dw=5e-6,\n",
    "            t_acqdelay=50e-6,\n",
    "            t_echo=lambda: TE2.value*1e-3,\n",
    "            t_end=0.1\n",
    "        ),\n",
    "        show_magnitude=True,\n",
    "        show_complex=True\n",
    "    )\n",
    "\n",
    "pn.Column(\n",
    "    pn.Row(TE2, neco),\n",
    "    task32_cpmg.main(),\n",
    "    sizing_mode='stretch_width'\n",
    ")"
   ]
  },
  {
   "cell_type": "markdown",
   "id": "d9e8b210-b755-4322-ba00-9c46e92f8cc0",
   "metadata": {
    "extensions": {
     "jupyter_dashboards": {
      "activeView": "grid_default",
      "views": {
       "grid_default": {
        "col": null,
        "height": 2,
        "hidden": true,
        "locked": true,
        "row": null,
        "width": 2
       }
      }
     }
    },
    "tags": []
   },
   "source": [
    "## 4. Flow Imaging"
   ]
  },
  {
   "cell_type": "markdown",
   "id": "011f812e-c3b5-43f0-9051-690c930fd8b0",
   "metadata": {
    "extensions": {
     "jupyter_dashboards": {
      "activeView": "grid_default",
      "views": {
       "grid_default": {
        "col": null,
        "height": 2,
        "hidden": true,
        "locked": true,
        "row": null,
        "width": 2
       }
      }
     }
    }
   },
   "source": [
    "> -------------------------------------------------------------------------------------------------------------------------------------------------------\n",
    "> #### **Task 4.1:**\n",
    "> 1. Go to the /notebooks/example/flow-2D-profile.ipynb and follow the instructions there.\n",
    "> -------------------------------------------------------------------------------------------------------------------------------------------------------"
   ]
  }
 ],
 "metadata": {
  "extensions": {
   "jupyter_dashboards": {
    "activeView": "grid_default",
    "version": 1,
    "views": {
     "grid_default": {
      "cellMargin": 2,
      "defaultCellHeight": 40,
      "maxColumns": 12,
      "name": "grid",
      "type": "grid"
     }
    }
   }
  },
  "kernelspec": {
   "display_name": "Python 3 (ipykernel)",
   "language": "python",
   "name": "python3"
  },
  "language_info": {
   "codemirror_mode": {
    "name": "ipython",
    "version": 3
   },
   "file_extension": ".py",
   "mimetype": "text/x-python",
   "name": "python",
   "nbconvert_exporter": "python",
   "pygments_lexer": "ipython3",
   "version": "3.10.7"
  }
 },
 "nbformat": 4,
 "nbformat_minor": 5
}
