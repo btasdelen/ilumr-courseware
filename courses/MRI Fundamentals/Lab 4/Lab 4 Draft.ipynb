{
 "cells": [
  {
   "cell_type": "markdown",
   "id": "3f82a4d9-36ac-4355-9dec-5fdccf60211c",
   "metadata": {},
   "source": [
    "# **LAB FOUR: RELAXATION AND CONTRAST**\n",
    "\n",
    "This lab covers..."
   ]
  },
  {
   "cell_type": "markdown",
   "id": "373eb6d3-5017-4373-88a4-15faedd68241",
   "metadata": {},
   "source": [
    "Background: \n",
    "- Recap on the net magnetization vector and the longitudinal and transverse components \n",
    "\n",
    "\n",
    "T1 Relaxation: \n",
    "- Cause of longitudinal relaxation and T1 time constant \n",
    "- introduce Tr\n",
    "- Exp: FID and adjust the rep time, as rep time decreases lose signal because not enough recovery time to regain Mz. \n",
    "- Exp: Inv pulse and FID, 180, 90, as change spacing get negative or positive FID - way of measuring T1\n",
    "\n",
    "\n",
    "T2 Relaxation:\n",
    "- Cause of transverse relaxation and T2 time constant \n",
    "- introduce Te\n",
    "- T2 vs T2* \n",
    "- Exp: Spin echo experiment changing TE and seeing different echo sizes \n",
    "- Exp: CPMG - getting entire decay curve in a single echo train\n",
    "- Use both to measure T2 values \n",
    "\n",
    "\n",
    "Contrast Imaging:\n",
    "- Explain T1 and T2 weighted images, how TR and TE select for these and which parts are bright vs dark in each type of image. \n",
    "- Exp: Allow them to change TR and TE and see how it changes the image \n",
    "- Exp: Inv recovery. Use measured values to calculate the TI required to black out specific cells in the phantom \n",
    "\n",
    "\n"
   ]
  },
  {
   "cell_type": "markdown",
   "id": "5c032817-f3ee-471a-ac42-fa95b2bf896a",
   "metadata": {},
   "source": [
    ">-------------------------------------------------------------------------------------------------------------------------------------------------------\n",
    "> #### **Setup Task: Run the Notebook**\n",
    "> \n",
    "> 1. Edit the cell below to set the `LAB_USER_NAME` variable to your name\n",
    "> 2. Click **Run->Run All Cells** in the in top menu bar of jupyterlab\n",
    "> 3. Open the Table of Contents side-bar on the left edge of jupyterlab to aid in navigation\n",
    "> \n",
    "> -------------------------------------------------------------------------------------------------------------------------------------------------------"
   ]
  },
  {
   "cell_type": "code",
   "execution_count": null,
   "id": "16f05f60-40d9-4bec-8261-c48c94802a07",
   "metadata": {},
   "outputs": [],
   "source": [
    "LAB_USER_NAME = 'REPLACE_ME'"
   ]
  },
  {
   "cell_type": "markdown",
   "id": "70b86f3b-239d-4b41-9233-498dbbc9f362",
   "metadata": {},
   "source": [
    "**Important**: To initialise this notebook, edit the cell above to set `LAB_USER_NAME` to your name, then click **Run->Run All Cells** in the top menu bar."
   ]
  },
  {
   "cell_type": "code",
   "execution_count": null,
   "id": "179ea1b4-60c9-4514-8c4c-e78271824085",
   "metadata": {
    "jupyter": {
     "source_hidden": true
    },
    "tags": []
   },
   "outputs": [],
   "source": [
    "import panel as pn\n",
    "pn.extension(raw_css=['''progress {margin: 0;}''']) # raw_css setting is a workaround for panel issue 4112\n",
    "import sys\n",
    "import os\n",
    "import yaml\n",
    "import numpy as np\n",
    "\n",
    "from matipo import GLOBALS_DIR, DATA_DIR\n",
    "\n",
    "# add inline dashboard libraries to path so they can be imported later\n",
    "sys.path.append('../../../dashboards-inline')\n",
    "\n",
    "LAB_DIR = os.path.join(DATA_DIR, LAB_USER_NAME)\n",
    "os.makedirs(LAB_DIR, exist_ok=True)\n",
    "print('User data directory:', LAB_DIR)\n",
    "\n",
    "GAMMA_BAR = 42.58e6\n",
    "\n",
    "try:\n",
    "    with open(GLOBALS_DIR+'gradient_calibration.yaml', 'r') as f:\n",
    "        data = yaml.load(f, Loader=yaml.SafeLoader)\n",
    "        G_CAL = 1/(GAMMA_BAR*data['gradient_calibration']) # convert\n",
    "except IOError:\n",
    "    print('Unable to load gradient calibration, using default value')\n",
    "    G_CAL = 0.2\n",
    "\n",
    "try:\n",
    "    with open(GLOBALS_DIR+'hardpulse_90.yaml', 'r') as f:\n",
    "        data = yaml.load(f, Loader=yaml.SafeLoader)\n",
    "        AREA_90 = data['a_90']*data['t_90']\n",
    "except IOError:\n",
    "    print('Unable to load pulse calibration, using default value')\n",
    "    AREA_90 = 0.3*32e-6"
   ]
  },
  {
   "cell_type": "markdown",
   "id": "246017a5-e44f-4b07-a54c-fc014bbf2633",
   "metadata": {
    "tags": []
   },
   "source": [
    "## 1. Background\n",
    "Since the mechanisms of relaxation occur on the quantum level, it is important to recap how individual spins contribute to the net magnetization vector. \n",
    "\n",
    "Taking an averaged sum of all the quantum spins' magnetic moments ( $\\vec\\mu$) results in a vector that describes the net direction and magnitude of these spins - this is called the Net Magnetization Vector ($\\vec M$). When placed in the magnetic field ($\\vec B_0$), not all the spins will align with the field, but at thermal equilibrium their net value ($\\vec M$) will align. This causes a precession around $\\vec B_0$ as described in Lab One. When we add energy to the system, using the oscillating magnetic field $\\vec B_1$, the tip angle of $\\vec M$ can be changed. \n",
    "\n",
    "**Relaxation** is the process of $\\vec M$ returning back to its thermal equilibrium state in alignment with $\\vec B_0$.\n",
    "\n",
    "In order to better express the different types of relaxation, $\\vec M$ is split into two components: the longitudinal component ($\\vec M_z$) and the transverse component ($\\vec M_{xy}$). Each of these components undergo relaxation at different rates and through different mechanisms."
   ]
  },
  {
   "cell_type": "markdown",
   "id": "bdf9621f-3972-45d6-be46-ddb3f6b0ca03",
   "metadata": {
    "tags": []
   },
   "source": [
    "## 2. T1 Relaxation\n",
    "\n",
    "$$M_z(t) = M_0 \\cdot (1-e^{-t/T_1})$$"
   ]
  },
  {
   "cell_type": "markdown",
   "id": "4022a3f0-5527-420a-98df-dc7258ad2935",
   "metadata": {},
   "source": [
    "> -------------------------------------------------------------------------------------------------------------------------------------------------------\n",
    "> #### **Task 2.1:**\n",
    "> 1. Step one\n",
    "> -------------------------------------------------------------------------------------------------------------------------------------------------------"
   ]
  },
  {
   "cell_type": "markdown",
   "id": "1d347359-cda7-4033-ba14-7e2e7f789d89",
   "metadata": {},
   "source": [
    "> -------------------------------------------------------------------------------------------------------------------------------------------------------\n",
    "> #### **Task 2.2:**\n",
    "> 1. Step one\n",
    "> -------------------------------------------------------------------------------------------------------------------------------------------------------"
   ]
  },
  {
   "cell_type": "markdown",
   "id": "0ea9fbdb-e53a-4ce3-a481-6acf9268d238",
   "metadata": {
    "tags": []
   },
   "source": [
    "## 3. T2 Relaxation\n",
    "$$M_{xy}(t) = M_{xy}(0) \\cdot e^{-t/T_2}$$"
   ]
  },
  {
   "cell_type": "markdown",
   "id": "22cb8c41-6a4d-4e8f-a814-d5902a35ac0f",
   "metadata": {},
   "source": [
    "> -------------------------------------------------------------------------------------------------------------------------------------------------------\n",
    "> #### **Task 3.1:**\n",
    "> 1. Step one\n",
    "> -------------------------------------------------------------------------------------------------------------------------------------------------------"
   ]
  },
  {
   "cell_type": "markdown",
   "id": "b1d8ec21-b25d-4277-96c0-261e1bb931e7",
   "metadata": {},
   "source": [
    "> -------------------------------------------------------------------------------------------------------------------------------------------------------\n",
    "> #### **Task 3.2:**\n",
    "> 1. Step one\n",
    "> -------------------------------------------------------------------------------------------------------------------------------------------------------"
   ]
  },
  {
   "cell_type": "markdown",
   "id": "d9e8b210-b755-4322-ba00-9c46e92f8cc0",
   "metadata": {
    "tags": []
   },
   "source": [
    "## 4. Contrast Imaging"
   ]
  },
  {
   "cell_type": "markdown",
   "id": "011f812e-c3b5-43f0-9051-690c930fd8b0",
   "metadata": {},
   "source": [
    "> -------------------------------------------------------------------------------------------------------------------------------------------------------\n",
    "> #### **Task 4.1:**\n",
    "> 1. Step one\n",
    "> -------------------------------------------------------------------------------------------------------------------------------------------------------"
   ]
  },
  {
   "cell_type": "markdown",
   "id": "bc3214c8-49e0-4fb6-8b87-28611c93f75b",
   "metadata": {},
   "source": [
    "> -------------------------------------------------------------------------------------------------------------------------------------------------------\n",
    "> #### **Task 4.2:**\n",
    "> 1. Step one\n",
    "> -------------------------------------------------------------------------------------------------------------------------------------------------------"
   ]
  },
  {
   "cell_type": "code",
   "execution_count": null,
   "id": "dfe3eaac-6ec8-4929-b69a-a9bfa0291ed5",
   "metadata": {},
   "outputs": [],
   "source": []
  }
 ],
 "metadata": {
  "kernelspec": {
   "display_name": "Python 3 (ipykernel)",
   "language": "python",
   "name": "python3"
  },
  "language_info": {
   "codemirror_mode": {
    "name": "ipython",
    "version": 3
   },
   "file_extension": ".py",
   "mimetype": "text/x-python",
   "name": "python",
   "nbconvert_exporter": "python",
   "pygments_lexer": "ipython3",
   "version": "3.10.7"
  }
 },
 "nbformat": 4,
 "nbformat_minor": 5
}
