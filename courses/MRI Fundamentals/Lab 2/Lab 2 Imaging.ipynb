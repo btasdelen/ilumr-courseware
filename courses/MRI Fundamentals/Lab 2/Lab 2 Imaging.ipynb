{
 "cells": [
  {
   "cell_type": "markdown",
   "id": "3f82a4d9-36ac-4355-9dec-5fdccf60211c",
   "metadata": {},
   "source": [
    "# **LAB TWO: IMAGING**\n",
    "\n",
    "This lab covers basic MR Imaging concepts: Gradients, Frequency Encoding, Phase Encoding, *k*-Space, Field of View, and Resolution."
   ]
  },
  {
   "cell_type": "markdown",
   "id": "5c032817-f3ee-471a-ac42-fa95b2bf896a",
   "metadata": {},
   "source": [
    "> -------------------------------------------------------------------------------------------------------------------------------------------------------\n",
    "> #### **Setup Task: Run the Notebook**\n",
    "> \n",
    "> 1. Edit the cell below to set the `LAB_USER_NAME` variable to your name\n",
    "> 2. Click **Run->Run All Cells** in the in top menu bar of jupyterlab\n",
    "> 3. Open the Table of Contents side-bar on the left edge of jupyterlab to aid in navigation\n",
    "> \n",
    "> -------------------------------------------------------------------------------------------------------------------------------------------------------"
   ]
  },
  {
   "cell_type": "code",
   "execution_count": null,
   "id": "16f05f60-40d9-4bec-8261-c48c94802a07",
   "metadata": {
    "tags": []
   },
   "outputs": [],
   "source": [
    "LAB_USER_NAME = 'TEST'"
   ]
  },
  {
   "cell_type": "markdown",
   "id": "70b86f3b-239d-4b41-9233-498dbbc9f362",
   "metadata": {},
   "source": [
    "**Important**: To initialise this notebook, edit the cell above to set `LAB_USER_NAME` to your name, then click **Run->Run All Cells** in the top menu bar."
   ]
  },
  {
   "cell_type": "code",
   "execution_count": null,
   "id": "179ea1b4-60c9-4514-8c4c-e78271824085",
   "metadata": {
    "tags": []
   },
   "outputs": [],
   "source": [
    "import panel as pn\n",
    "pn.extension(\n",
    "    inline=True, # use inline js to allow it to work offline\n",
    "    raw_css=['''progress {margin: 0;}''']) # raw_css setting is a workaround for panel issue 4112\n",
    "import bokeh.plotting\n",
    "bokeh.plotting.output_notebook(resources=bokeh.resources.INLINE) # use inline js to allow it to work offline\n",
    "import sys\n",
    "import os\n",
    "import numpy as np\n",
    "\n",
    "# add inline dashboard libraries to path so they can be imported later\n",
    "sys.path.append('../../../dashboards-inline')\n",
    "\n",
    "LAB_DIR = os.path.join('/home/data/', LAB_USER_NAME)\n",
    "os.makedirs(LAB_DIR, exist_ok=True)\n",
    "print('User data directory:', LAB_DIR)"
   ]
  },
  {
   "cell_type": "markdown",
   "id": "ee50b355-8388-4fec-b8c6-e68f2a60137a",
   "metadata": {
    "tags": []
   },
   "source": [
    "## 1. Gradients\n",
    "\n",
    "<figure style=\"float: right;\">\n",
    "<img src=\"Images/GradCoilZ.png\" width=\"400\">\n",
    "<figcaption style=\"width: 400px;\">Figure 1.1: Z cradient coils and current directions (orange arrows). At $z_1$ the total field strength is increased, and at $z_2$ it is decreased.</figcaption>\n",
    "</figure>\n",
    "\n",
    "Part of Lab 1 involved optimising the duration of the NMR signal by correcting the magnetic field inhomogeneities (unevenness) using shims. Inhomogeneity causes nuclei at different locations in the sample to resonate at slightly different frequencies, resulting in destructive interference and a reduction in signal duration. The fundamental principle of NMR imaging is to exploit the effect of inhomogeneity to locate the source of an NMR signal in space. To purposely distort the field in a way that is simple to analyse, we will use combinations of coils that create linear **gradients** in the the field strength along the $x$, $y$, and $z$ axes (see Figure 1.1).\n",
    "\n",
    "Because the gradients are linear, the Larmor frequency at any location will be a linear function of its coordinate along the gradient axis, e.g. when applying gradient $G_z$:\n",
    "\n",
    "$$ f = f_0 + \\bar\\gamma \\cdot G_z \\cdot z \\tag{1.1}$$\n",
    "\n",
    "Where $f_0$ is the Larmor frequency when no gradient is applied, and $\\bar\\gamma$ is the gyromagnetic ratio ($\\bar\\gamma = 42.58 \\times 10^{6} \\ \\mathrm{Hz}/\\mathrm{T}$).\n",
    "\n",
    "In the next task we will use the spin echo sequence shown below (Figure 1.2); first with the gradients set to the optimised shim values, and then modified to see how they can be used to encode position information into the NMR signal.\n",
    "\n",
    "<figure>\n",
    "<img src=\"Images/se_1.png\" width=\"500\">\n",
    "<figcaption style=\"width: 500px;\">Figure 1.2: Spin Echo pulse sequence with the Z shim shown.</figcaption>\n",
    "</figure>\n"
   ]
  },
  {
   "cell_type": "markdown",
   "id": "b73adaa5-4d14-4a2f-ac49-24dcaf498447",
   "metadata": {
    "tags": []
   },
   "source": [
    "<figure>\n",
    "<img src=\"Images/single_cell.png\" width=\"300\">\n",
    "<figcaption style=\"width: 300px;\">Single cell phantom.</figcaption>\n",
    "</figure>\n",
    "\n",
    "> ---\n",
    "> #### **Task 1.1**\n",
    "> \n",
    "> 1. Insert the single cell (thin layer) sample (make sure to centre the sample using the depth gauge).\n",
    "> 2. Reset shims and start experiment with \"Run Loop\".\n",
    "> 3. Zoom in on the echo signal (from 6ms to 14ms).\n",
    "> 4. Move the sample up and down. **Question:** What happens to the signal when it is moved too far from the centre?\n",
    "> 5. Return the sample to roughly the centre (where the signal returns to full amplitude).\n",
    "> 6. Increase the Z shim to its limit (1.0, or -1.0). **Question:** How does the signal shape change when the shim is offset?\n",
    "> 7. Move the sample up and down a small amount, so that the magnitude is not significantly affected.  **Question:** What happens to the signal frequency?\n",
    "> 8. Click abort to stop the experiment before moving on.\n",
    "> ---\n"
   ]
  },
  {
   "cell_type": "code",
   "execution_count": null,
   "id": "8ea0043a-338f-4236-8af5-75113fa57e13",
   "metadata": {
    "jupyter": {
     "source_hidden": true
    },
    "tags": []
   },
   "outputs": [],
   "source": [
    "# Experiment 1: Full acquisition SE with constant shim\n",
    "# load global shims file\n",
    "import yaml\n",
    "from matipo import GLOBALS_DIR\n",
    "SHIM_ORDER = ['shim_x', 'shim_y', 'shim_z']\n",
    "SHIM_FILE = os.path.join(GLOBALS_DIR, 'shims.yaml')\n",
    "\n",
    "with open(SHIM_FILE, 'r') as f:\n",
    "    SHIM_INIT = yaml.safe_load(f)\n",
    "\n",
    "# create shim inputs, using saved user shims as initial values\n",
    "shim_inputs = {}\n",
    "for shim_key in SHIM_ORDER:\n",
    "    shim_name = shim_key.split('_')[-1].upper()\n",
    "    shim_inputs[shim_key] = pn.widgets.FloatInput(name=shim_name+' shim', start=-1, end=1, step=0.01, value=round(SHIM_INIT[shim_key], 2), width=80)\n",
    "\n",
    "# button to reset shim inputs to the saved values\n",
    "reset_btn = pn.widgets.Button(name='Reset', button_type='primary', align='end', width=100)\n",
    "\n",
    "def reset_shim_inputs(e):\n",
    "    for shim_key in SHIM_ORDER:\n",
    "        shim_inputs[shim_key].value = round(SHIM_INIT[shim_key], 2)\n",
    "\n",
    "reset_btn.on_click(reset_shim_inputs)\n",
    "    \n",
    "from full_acq_SE import FullAcqSEApp # from dashboards-inline directory that was added to sys.path\n",
    "# set some parameters directly\n",
    "override_pars = dict(\n",
    "    t_echo=0.01,\n",
    "    n_scans=1,\n",
    "    n_samples=1500,\n",
    "    t_dw=10e-6, # using a long dwell time for narrow bandwith to more easily see the spectrum shape\n",
    "    t_end=0.2\n",
    ")\n",
    "\n",
    "# add shim inputs\n",
    "override_pars.update(shim_inputs)\n",
    "\n",
    "# create dashboard app\n",
    "exp1_app = FullAcqSEApp(\n",
    "    override_pars=override_pars,\n",
    "    show_magnitude=True,\n",
    "    show_complex=True,\n",
    "    enable_run_loop=True\n",
    ")\n",
    "\n",
    "exp1_app.plot.figure.height=400\n",
    "\n",
    "# display layout\n",
    "pn.Column(\n",
    "    # echo_time,\n",
    "    pn.Row(*([shim_inputs[shim_key] for shim_key in SHIM_ORDER]+[reset_btn])), # take shim inputs in order and concatenate reset button\n",
    "    exp1_app.main(),\n",
    "    sizing_mode='stretch_width'\n",
    ")"
   ]
  },
  {
   "cell_type": "markdown",
   "id": "f8e6c994-d649-45cb-9275-aab4ab75cc53",
   "metadata": {},
   "source": [
    "## 2. Frequency Encoding\n",
    "### Theory\n",
    "\n",
    "<figure style=\"float: right;\">\n",
    "<img src=\"Images/WaterSampleAddition.png\" width=\"500\">\n",
    "<figcaption style=\"width: 500px;\">Figure 2.1: Frequency Encoding</figcaption>\n",
    "</figure>\n",
    "\n",
    "The experiments in **Task 1.1** showed how the frequency of the NMR signal from a small sample varies with position when a gradient is applied by offsetting a shim value. In fact, with calibration to determine the value of $G_z$, the frequency can be measured and the position calculated by rearranging Equation 1.1.\n",
    "\n",
    "Now consider a sample made up of multiple small partitions of fluid; each partition will emit a signal with frequency depending on its position, but the measured signal will be the sum of all of them, a complex shape caused by constructive and destructive intereference. The frequencies present in the measured signal can be extracted using a Fourier Transform, revealing individual peaks associated with the partitions (See Figure 2.1).\n",
    "\n",
    "In this example the partitions of water are separated, but the same logic can be applied to a continuous shape. We can imagine slicing the sample into multiple slices along the gradient axis, so that the signals from the slices are similar to the signals from the partitions in Figure 2.1. When the total signal is measured and processed with a Fourier transform, the magnitude of the resulting spectrum at any frequency will be proportional to the amount of sample in the slice that is precessing at that frequency. This means the spectrum is a 1D projection image of the sample.\n",
    "\n",
    "Mathematically, the total signal $s(t)$ we measure in the rotating frame is proportional to the integral of the magnetization $m(z)$ multiplied by a phasor contributed by the frequency shift caused by $G_z$:\n",
    "\n",
    "$$ \\large s(t) \\propto \\int_z m(z) e^{-i \\bar\\gamma G_z z t} dz \\tag{2.1}$$\n",
    "\n",
    "With the substitution $k = \\bar\\gamma G_z t$, this equation has the same form as the inverse Fourier transform, and $m(z)$ can be written as the Fourier transform of $s(t)$:\n",
    "\n",
    "$$ \\large m(z) \\propto \\int_t s(t) e^{i \\bar\\gamma G_z z t} dt \\tag{2.2}$$"
   ]
  },
  {
   "cell_type": "markdown",
   "id": "ff056608-d428-4a90-93bd-a5e39cc28d7e",
   "metadata": {},
   "source": [
    "### Pulse Sequence\n",
    "\n",
    "<figure style=\"float: right;\">\n",
    "<img src=\"Images/se_2.png\" width=\"500\">\n",
    "<figcaption style=\"width: 500px;\">Figure 2.2: the Spin Echo sequence with a switched frequency encode gradient ($G_z$) and gated acquisition.</figcaption>\n",
    "</figure>\n",
    "\n",
    "For simplicity, the shim values and gradient values are generally set seperately and added together by the hardware. The gradient also does not need to be active for the entire pulse sequence, only during the acquisition time and for a short time between the $90^\\circ$ and $180^\\circ$ RF pulses – to satisfy a requirement for optimal spin echo formation where the area under the gradient between the $90^\\circ$ and $180^\\circ$ pulses must match the area under the gradient from the $180^\\circ$ to the echo time ($T_E$). This optimised pulse sequence is shown in Figure 2.2, and will be used in the next experiment."
   ]
  },
  {
   "cell_type": "markdown",
   "id": "9419da1f-eb19-4996-8b4b-e66f603e333b",
   "metadata": {},
   "source": [
    "<figure>\n",
    "<img src=\"Images/quad_cell.png\" width=\"300\">\n",
    "<figcaption style=\"width: 300px;\">Quad cell (1D Z) phantom.</figcaption>\n",
    "</figure>\n",
    "\n",
    ">---\n",
    ">#### **Task 2.1**\n",
    ">1. With the Single Cell sample still inserted, start the experiment with \"Run Loop\".\n",
    ">2. Increase the read gradient to 0.25.\n",
    ">3. Move the sample up and down again, and see how the spectrum changes. **Question:** Does this match your observations in the previous experiment?\n",
    ">4. Inspect the Quad cell phantom and, based on your observations with the thin layer sample, hand-draw a rough plot of the spectrum you would expect to see when it is inserted.\n",
    ">5. Insert the Quad cell phantom (centred with the depth gauge). **Question:** Does the spectrum look as you expected?\n",
    ">6. Adjust the gradient strength through its possible range and note how the spectrum \"image\" changes. **Question:** Comparing the image with 0.25 gradient and 0.5 gradient: Which has a larger FOV? Which has higher SNR? Which has finer spatial resolution? (refer to the Image Characteristics section below)\n",
    ">7. Click abort to stop the experiment before moving on.\n",
    ">---"
   ]
  },
  {
   "cell_type": "code",
   "execution_count": null,
   "id": "a6ba3073-97e5-436a-91fa-46aff37eb172",
   "metadata": {
    "jupyter": {
     "source_hidden": true
    },
    "tags": []
   },
   "outputs": [],
   "source": [
    "# Experiment 2: SE with adjustable Z read gradient showing signal and spectrum of echo\n",
    "# read gradient input\n",
    "# TODO: calibrate and use mT/m\n",
    "read_z_grad = pn.widgets.FloatInput(name='Read Z Gradient', start=-1, end=1, step=0.01, value=0, width=200)\n",
    "exp2_n_samples = pn.widgets.IntInput(name='Samples', start=20, end=400, step=10, value=200, width=200)\n",
    "exp2_dwell_time = pn.widgets.IntInput(name='Dwell Time (µs)', start=2, end=20, step=2, value=10, width=200)\n",
    "\n",
    "# TODO: oversample and use decimation before taking the FFT for flat filter profile\n",
    "from SE import SEApp # from dashboards-inline directory that was added to sys.path\n",
    "# set some parameters directly\n",
    "override_pars = dict(\n",
    "    g_read=lambda: (0, 0, read_z_grad.value),\n",
    "    t_echo=0.012,\n",
    "    n_scans=1,\n",
    "    n_samples=lambda: exp2_n_samples.value,\n",
    "    t_dw=lambda: 1e-6*exp2_dwell_time.value, # using a long dwell time for narrow bandwith to more easily see the spectrum shape\n",
    "    t_end=0.2\n",
    ")\n",
    "\n",
    "# create dashboard app\n",
    "exp2_app = SEApp(\n",
    "    override_pars=override_pars,\n",
    "    show_magnitude=True,\n",
    "    show_complex=True,\n",
    "    enable_run_loop=True,\n",
    "    flat_filter=True\n",
    ")\n",
    "\n",
    "exp2_app.plot1.figure.height=400\n",
    "exp2_app.plot2.figure.height=400\n",
    "\n",
    "# display layout\n",
    "pn.Column(\n",
    "    pn.Row(read_z_grad, exp2_n_samples, exp2_dwell_time),\n",
    "    exp2_app.main(),\n",
    "    sizing_mode='stretch_width'\n",
    ")"
   ]
  },
  {
   "cell_type": "markdown",
   "id": "21597480-3744-45da-9810-a17dc31eefbb",
   "metadata": {},
   "source": [
    "### Image Characteristics\n",
    "\n",
    "<figure style=\"float: right;\">\n",
    "<img src=\"Images/fov_spatialResolution.png\" width=\"500\">\n",
    "<figcaption style=\"width: 500px;\">Figure 2.3: How Dwell Time (sample spacing) and Number of Samples affect FOV and Resolution, with a fixed frequency encode gradient amplitude.</figcaption>\n",
    "</figure>\n",
    "\n",
    "Three important characteristics an image are:\n",
    "- **Field of View (FOV)**: The physical size of the image, i.e. the size of the largest object that can be viewed without being cropped or wrapped.\n",
    "- **Spatial Resolution**: The level of detail, usually expressed as a minimum distance between features such that they are still resolved, and not merging into a single blob. Note that this is not the same as the number of pixels in the image (Pixel Resolution). e.g. a spatial resolution of 1 mm is *finer resolution* than a spatial resolution of 2 mm.\n",
    "- **Signal to Noise Ratio (SNR)**: The ratio of the amplitude of the signal in areas of image corresponding to the nuclei in the sample to the amplitude of the noise in areas without signal. A larger SNR is better.\n",
    "\n",
    "The relationship of FOV and resolution to the pulse sequence parameters, dwell time and number of samples, can be unintuitive. Figure 2.3 shows how, compared to (a): (b) increasing the number of samples with the same dwell time does not affect FOV and results in finer resolution; (c) increasing the number of samples while decreasing the dwell time to keep the total acquisition time the same increases the FOV without affecting resolution, and (d) increasing dwell time without changing the number of samples decreases FOV and gives finer resolution (zoom in)."
   ]
  },
  {
   "cell_type": "markdown",
   "id": "6953070e-9901-4ab3-a0b0-2a0f297c693d",
   "metadata": {
    "tags": []
   },
   "source": [
    "## 3. Projection Reconstruction\n",
    "\n",
    "With the above method of creating a 1D projection image, a 2D image can be reconstructed by combining multiple images with the sample rotated at different angles. This is the method used to produce 3D images from X-ray projections, called Computed Tomography (with the X-ray machine rotated around the human). If we apply a combination of linear gradients they will add together to produce a net gradient in an oblique (off-axis) direction. Using this method the gradient can be rotated instead of the rotating the sample.\n",
    "\n",
    "In the next experiment, the read gradient will be specified with a magnitude $|G|$ and angle $\\theta$, and the $x$ and $y$ components will be automatically calculated using:\n",
    "\n",
    "$$\n",
    "G_x = |G| \\cdot \\cos \\theta \\\\\n",
    "G_y = |G| \\cdot \\sin \\theta\n",
    "\\tag{3.1}\n",
    "$$"
   ]
  },
  {
   "cell_type": "markdown",
   "id": "bb2599bb-3731-41b0-b202-8c23a2cfaf4d",
   "metadata": {},
   "source": [
    "<figure style=\"float: right;\">\n",
    "<img src=\"Images/projectionReconstruction.png\" width=\"500\">\n",
    "<figcaption style=\"width: 500px;\">Figure 3.1: Projection Reconstruction</figcaption>\n",
    "</figure>\n",
    "\n",
    ">---\n",
    ">#### **Task 3.1**\n",
    ">1. Insert the Double Barrel at the correct depth and start the experiment below with \"Run Loop\".\n",
    ">2. Increase the magnitude to expand the 1D image and try both physically rotating the sample and rotating the read gradient direction.\n",
    ">3. Set the gradient magnitude appropriately so that the 1D image is not cropped with any gradient direction.\n",
    ">4. Based on the 1D views at different angles, draw a 2D top-down diagram of where you think the water is located in the Double Barrel. Hint: draw a square in your notebook, and for each edge draw the 1D image you get from orienting the gradient along that edge. Based on this you can draw inside the square where the water is located (See Figure 3.1).\n",
    ">5. Click abort to stop the experiment before moving on.\n",
    ">---"
   ]
  },
  {
   "cell_type": "code",
   "execution_count": null,
   "id": "c96355bf-fb78-4e6e-b4d9-d737610427ee",
   "metadata": {
    "jupyter": {
     "source_hidden": true
    },
    "tags": []
   },
   "outputs": [],
   "source": [
    "# Experiment 3: 1D SE with adjustable X/Y vector read gradient\n",
    "# read gradient input\n",
    "# TODO: calibrate and use mT/m\n",
    "exp3_read_grad_mag = pn.widgets.FloatInput(name='Read Gradient Magnitude', start=0, end=1, step=0.01, value=0, width=200)\n",
    "exp3_read_grad_dir = pn.widgets.FloatInput(name='Read Gradient Direction (degrees)', start=0, end=360, step=10, value=0, width=200)\n",
    "exp3_read_x_grad = pn.widgets.FloatInput(name='Read Gradient X Component', start=-1, end=1, step=0.01, value=0, width=200, disabled=True)\n",
    "exp3_read_y_grad = pn.widgets.FloatInput(name='Read Gradient Y Component', start=-1, end=1, step=0.01, value=0, width=200, disabled=True)\n",
    "\n",
    "def exp3_read_grad_cb(*events):\n",
    "    exp3_read_x_grad.value = exp3_read_grad_mag.value*np.cos((np.pi/180)*exp3_read_grad_dir.value)\n",
    "    exp3_read_y_grad.value = exp3_read_grad_mag.value*np.sin((np.pi/180)*exp3_read_grad_dir.value)\n",
    "\n",
    "exp3_read_grad_mag.param.watch(exp3_read_grad_cb, ['value'], onlychanged=True)\n",
    "exp3_read_grad_dir.param.watch(exp3_read_grad_cb, ['value'], onlychanged=True)\n",
    "\n",
    "# TODO: oversample and use decimation before taking the FFT for flat filter profile\n",
    "from SE import SEApp # from dashboards-inline directory that was added to sys.path\n",
    "# set some parameters directly\n",
    "override_pars = dict(\n",
    "    g_read=lambda: (exp3_read_grad_mag.value*np.cos((np.pi/180)*exp3_read_grad_dir.value), exp3_read_grad_mag.value*np.sin((np.pi/180)*exp3_read_grad_dir.value), 0),\n",
    "    t_echo=0.012,\n",
    "    n_scans=2,\n",
    "    n_samples=100,\n",
    "    t_dw=20e-6, # using a long dwell time for narrow bandwith to more easily see the spectrum shape\n",
    "    t_end=0.1\n",
    ")\n",
    "\n",
    "# create dashboard app\n",
    "exp3_app = SEApp(\n",
    "    override_pars=override_pars,\n",
    "    show_magnitude=True,\n",
    "    show_complex=False,\n",
    "    enable_run_loop=True,\n",
    "    flat_filter=True\n",
    ")\n",
    "\n",
    "exp3_app.plot1.figure.height=400\n",
    "exp3_app.plot2.figure.height=400\n",
    "\n",
    "# display layout\n",
    "pn.Column(\n",
    "    pn.Row(exp3_read_grad_mag, exp3_read_grad_dir, exp3_read_x_grad, exp3_read_y_grad),\n",
    "    exp3_app.main(),\n",
    "    sizing_mode='stretch_width'\n",
    ")"
   ]
  },
  {
   "cell_type": "markdown",
   "id": "288bd7d5-6e1d-4ecd-a6c2-36a7cdf23051",
   "metadata": {
    "tags": []
   },
   "source": [
    "## 4. 2D Imaging\n",
    "\n",
    "### *k*-Space in 1D\n",
    "\n",
    "<figure style=\"float: right;\">\n",
    "<img src=\"Images/kspaceTrajectory.png\" width=\"500\">\n",
    "<figcaption style=\"width: 500px;\">Figure 4.1: $k_z$ trajectory in a Spin Echo pulse sequence with a constant $z$ shim offset</figcaption>\n",
    "</figure>\n",
    "\n",
    "The signal we acquire must generally be Fourier transformed to produce an image, and in order to understand how the pulse sequence and acquisition samples relate to the image obtained it is helpful to use the concept of *k*-space. A *k*-space image is the inverse Fourier transform of the image in physical space (the \"normal\" image). The value of a pixel in a *k*-space image represents the amount of a particular *spatial frequency* (units of radians per meter) in the physical space image, with the centre of *k*-space corresponding to low spatial frequencies and the edges to high spatial frequencies.\n",
    "\n",
    "Every discrete sample acquired during the pulse sequence has a *k*-space coordinate depending on the gradients and RF pulses applied so far. For frequency encoding as used in the previous sections, $k_z$ evolves as shown in Figure 4.1. The $180^\\circ$ RF pulse inverts the accumulated phase of nuclei that were excited by the initial $90^\\circ$ pulse, which also inverts the *k*-space coordinate. The pulse sequence is designed so that after the $180^\\circ$ pulse $k_z$ is negative and passes through zero at $T_E$ before becoming positive. In this way we sample along a line segment through *k*-space centred at $k_z=0$."
   ]
  },
  {
   "cell_type": "markdown",
   "id": "b84c00bc-afed-41e3-aa3d-121d7fa9fb04",
   "metadata": {},
   "source": [
    "### *k*-Space in 2D\n",
    "\n",
    "<figure style=\"float: right;\">\n",
    "<img src=\"Images/ReadEncoding.png\" width=\"600\">\n",
    "<figcaption style=\"width: 600px;\">Figure 4.2: Projection Reconstruction $k$-space sampling</figcaption>\n",
    "</figure>\n",
    "\n",
    "Sampling along a line segment in *k*-space produces a 1D image projected onto a line segment in physical space, and in **Section 3** it was possible to build a rough 2D image by combining multiple 1D projections. In *k*-space, the data acquired lies on line segments through the origin of 2D k-space as shown in Figure 4.2. In principle, instead of processing each line individually with a 1D Fourier transform, we can generalise and apply a 2D Fourier transform to our 2D *k*-space data. In practice this is difficult to do with the data from these line segments because they do not fall in a regular grid, and the Fast Fourier Transform algorithm cannot be used directly. There are advanced data processing techniques that can resample the data into a grid, but these will not be covered in this lab.\n",
    "\n",
    "Instead, we will modify the pulse sequence as shown in Figure 4.3 to cause the *k*-space coordinates to fall into a regular grid. This is done using *phase encoding*, where a gradient pulse is applied before sampling, causing the accumulated phase of precession to change depending on position. After a $y$ gradient pulse with amplitude $G_y$ and duration $t_y$ the final phase at coordinate $y$ is:\n",
    "\n",
    "$$ \\phi = \\bar\\gamma G_y t_y \\cdot y$$\n",
    "\n",
    "In this way, the $y$ position can be determined from the phase of the signal of a small partition of sample. With a large sample the signals from different $y$ locations will sum together into a single phase and magnitude, and multiple acquisitions stepping through values of $G_y t_y$ are required to fill the *k*-space grid as shown in Figure 4.4, so that the Fourier transform can be used to separate out the signals from different locations.\n",
    "\n",
    "<div style=\"float: left;\">\n",
    "<figure style=\"float: left;\">\n",
    "<img src=\"Images/SpinEchoPhase.png\" width=\"500\">\n",
    "<figcaption style=\"width: 500px;\">Figure 4.3: 2D Spin Echo imaging pulse sequence</figcaption>\n",
    "</figure>\n",
    "\n",
    "<figure style=\"float: left;\">\n",
    "<img src=\"Images/KSpace_spinEcho.png\" width=\"400\">\n",
    "<figcaption style=\"width: 400px;\">Figure 4.4: $k$-space trajectory of a single Spin Echo acquisition</figcaption>\n",
    "</figure>\n",
    "</div>"
   ]
  },
  {
   "cell_type": "markdown",
   "id": "84c4e59a-7933-469d-a774-05c2dc4d2479",
   "metadata": {
    "tags": []
   },
   "source": [
    "<figure style=\"float: right;\">\n",
    "<img src=\"Images/se_parameters.png\" width=\"500\">\n",
    "<figcaption style=\"width: 500px;\">Figure 4.5: Parameters of the 2D Spin Echo imaging experiment</figcaption>\n",
    "</figure>\n",
    "\n",
    "> ---\n",
    "> #### **Task 4.1**\n",
    "> 1. Insert the shim sample at the correct depth.\n",
    "> 2. Set the read and phase gradient values to a non-zero value and run the experiment.\n",
    "> 3. As the experiment progresses, k-space will be filled one line at a time, and should end with a spectral pattern.\n",
    "> 4. By modifying the gradient values, adjust the FOV so the image fills the plot on the right without being cropped and has the correct aspect ratio (the shim sample is circular). Save the Image plot and record the gradient values used. Note: you can abort the experiment early while trying out values to save time.\n",
    "> 5. Try increasing the read gradient to maximum. **Question**: what happens to the image?\n",
    "> 6. Reset the read gradient to the value found in step 4, and try increasing the phase gradient to maximum. **Question**: what happens to the image now? Is it the same as when the read gradient was set too high?\n",
    "> 7. Insert the double barrel at the correct depth and run the experiment with the optimised gradient values. Save the Image plot. **Question**: Does the image match what you drew in **Task 3.1**?\n",
    "> 8. Adjust the parameters to achieve an image with the same FOV but twice as fine resolution. Save the Image plot. *Hint: Refer back to the Image Characteristics section, and to Figure 4.5 on the right.*\n",
    "> ---"
   ]
  },
  {
   "cell_type": "code",
   "execution_count": null,
   "id": "df137828-34e1-4ae3-8ad7-552c64606077",
   "metadata": {
    "jupyter": {
     "source_hidden": true
    },
    "tags": []
   },
   "outputs": [],
   "source": [
    "# Experiment 4: 2D SE with adjustable X read gradient and Y phase gradient showing kspace and image\n",
    "read_x_grad = pn.widgets.FloatInput(name='Read X Gradient', start=-1, end=1, step=0.01, value=0, width=200)\n",
    "samples = pn.widgets.IntInput(name='Read Samples', start=1, end=200, step=1, value=32, width=200)\n",
    "dwell_time = pn.widgets.IntInput(name='Dwell Time (us)', start=2, end=80, step=2, value=20, width=200)\n",
    "phase_y_grad = pn.widgets.FloatInput(name='Phase Y Gradient', start=-1, end=1, step=0.01, value=0, width=200)\n",
    "phase_steps = pn.widgets.IntInput(name='Phase Steps', start=1, end=200, step=1, value=32, width=200)\n",
    "phase_y_width = pn.widgets.IntInput(name='Duration (us)', start=10, end=1000, step=10, value=200, width=200)\n",
    "\n",
    "def get_phase_order():\n",
    "    g_phase_prop = np.linspace(1, -1, phase_steps.value, endpoint=False)\n",
    "    phase_order = np.argsort(np.abs(g_phase_prop-1e-6))\n",
    "    return phase_order\n",
    "\n",
    "def get_g_phase():\n",
    "    g_phase_max = phase_y_grad.value\n",
    "    g_phase_prop = np.linspace(1, -1, phase_steps.value, endpoint=False)\n",
    "    return np.outer(phase_y_grad.value*g_phase_prop[get_phase_order()], np.array([0, 1, 0]))\n",
    "\n",
    "\n",
    "import importlib\n",
    "import RARE2D\n",
    "importlib.reload(RARE2D)\n",
    "\n",
    "from RARE2D import RARE2DApp # from dashboards-inline directory that was added to sys.path\n",
    "# set some parameters directly\n",
    "override_pars = dict(\n",
    "    g_read=lambda: (read_x_grad.value, 0, 0),\n",
    "    g_phase_1=get_g_phase,\n",
    "    phase_order=get_phase_order,\n",
    "    n_ETL=1,\n",
    "    t_echo=0.01,\n",
    "    n_scans=1,\n",
    "    n_samples=samples,\n",
    "    t_dw=lambda: 1e-6*dwell_time.value,\n",
    "    t_read=lambda: 1e-6*dwell_time.value*samples.value,\n",
    "    t_phase=lambda: 1e-6*phase_y_width.value,\n",
    "    t_end=1,\n",
    ")\n",
    "\n",
    "# create dashboard app\n",
    "exp4_app = RARE2DApp(\n",
    "    override_pars=override_pars\n",
    ")\n",
    "\n",
    "# display layout\n",
    "pn.Column(\n",
    "    pn.Row(read_x_grad, samples, dwell_time),\n",
    "    pn.Row(phase_y_grad, phase_steps, phase_y_width),\n",
    "    exp4_app.main(),\n",
    "    sizing_mode='stretch_width'\n",
    ")"
   ]
  },
  {
   "cell_type": "code",
   "execution_count": null,
   "id": "4d6d0fe3-77c1-466e-865c-e0c6850ac083",
   "metadata": {
    "jupyter": {
     "source_hidden": true
    },
    "tags": []
   },
   "outputs": [],
   "source": []
  }
 ],
 "metadata": {
  "kernelspec": {
   "display_name": "Python 3 (ipykernel)",
   "language": "python",
   "name": "python3"
  },
  "language_info": {
   "codemirror_mode": {
    "name": "ipython",
    "version": 3
   },
   "file_extension": ".py",
   "mimetype": "text/x-python",
   "name": "python",
   "nbconvert_exporter": "python",
   "pygments_lexer": "ipython3",
   "version": "3.10.7"
  },
  "widgets": {
   "application/vnd.jupyter.widget-state+json": {
    "state": {},
    "version_major": 2,
    "version_minor": 0
   }
  }
 },
 "nbformat": 4,
 "nbformat_minor": 5
}
